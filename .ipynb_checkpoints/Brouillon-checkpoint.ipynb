{
 "cells": [
  {
   "cell_type": "code",
   "execution_count": 1,
   "metadata": {
    "collapsed": true
   },
   "outputs": [],
   "source": [
    "from spn.factory import SpnFactory\n",
    "\n",
    "from spn.linked.spn import Spn as SpnLinked\n",
    "\n",
    "from spn.linked.layers import SumLayer as SumLayerLinked\n",
    "from spn.linked.layers import ProductLayer as ProductLayerLinked\n",
    "from spn.linked.layers import CategoricalIndicatorLayer\n",
    "from spn.linked.layers import CategoricalSmoothedLayer\n",
    "\n",
    "from spn.linked.nodes import SumNode\n",
    "from spn.linked.nodes import ProductNode\n",
    "from spn.linked.nodes import CategoricalIndicatorNode\n",
    "from spn.linked.nodes import CategoricalSmoothedNode\n",
    "from spn.linked.nodes import CLTreeNode\n",
    "\n",
    "from spn import MARG_IND\n",
    "from spn import LOG_ZERO\n",
    "\n",
    "\n",
    "import numpy\n",
    "from math import log\n",
    "from math import exp\n",
    "import dataset\n",
    "import logging\n",
    "import dataset\n",
    "import algo.learnspn\n",
    "from algo.dataslice import DataSlice\n",
    "import spn.linked.tests.test_spn as test\n",
    "from pyomo.opt import ProblemFormat"
   ]
  },
  {
   "cell_type": "code",
   "execution_count": 5,
   "metadata": {
    "collapsed": true
   },
   "outputs": [],
   "source": [
    "dicts = [{'var': 0, 'freqs': [9, 2]},\n",
    "         {'var': 1, 'freqs': [1, 9]},\n",
    "         {'var': 2, 'freqs': [7, 7]},\n",
    "         {'var': 3, 'freqs': [6, 2]}]"
   ]
  },
  {
   "cell_type": "code",
   "execution_count": 6,
   "metadata": {
    "collapsed": true
   },
   "outputs": [],
   "source": [
    "def create_valid_toy_spn():\n",
    "    # root layer\n",
    "    whole_scope = frozenset({0, 1, 2, 3})\n",
    "    root_node = SumNode(var_scope=whole_scope)\n",
    "    root_layer = SumLayerLinked([root_node])\n",
    "\n",
    "    # prod layer\n",
    "    prod_node_1 = ProductNode(var_scope=whole_scope)\n",
    "    prod_node_2 = ProductNode(var_scope=whole_scope)\n",
    "    prod_layer_1 = ProductLayerLinked([prod_node_1, prod_node_2])\n",
    "\n",
    "    root_node.add_child(prod_node_1, 0.2)\n",
    "    root_node.add_child(prod_node_2, 0.8)\n",
    "\n",
    "    # sum layer\n",
    "    scope_1 = frozenset({0, 1})\n",
    "    scope_2 = frozenset({2})\n",
    "    scope_3 = frozenset({3})\n",
    "    scope_4 = frozenset({2, 3})\n",
    "\n",
    "    sum_node_1 = SumNode(var_scope=scope_1)\n",
    "    sum_node_2 = SumNode(var_scope=scope_2)\n",
    "    sum_node_3 = SumNode(var_scope=scope_3)\n",
    "    sum_node_4 = SumNode(var_scope=scope_4)\n",
    "\n",
    "    prod_node_1.add_child(sum_node_1)\n",
    "    prod_node_1.add_child(sum_node_2)\n",
    "    prod_node_1.add_child(sum_node_3)\n",
    "\n",
    "    prod_node_2.add_child(sum_node_1)\n",
    "    prod_node_2.add_child(sum_node_4)\n",
    "\n",
    "    sum_layer_1 = SumLayerLinked([sum_node_1, sum_node_2,\n",
    "                            sum_node_3, sum_node_4])\n",
    "\n",
    "    # another product layer\n",
    "    prod_node_3 = ProductNode(var_scope=scope_1)\n",
    "    prod_node_4 = ProductNode(var_scope=scope_1)\n",
    "\n",
    "    prod_node_5 = ProductNode(var_scope=scope_4)\n",
    "    prod_node_6 = ProductNode(var_scope=scope_4)\n",
    "\n",
    "    sum_node_1.add_child(prod_node_3, 0.51)\n",
    "    sum_node_1.add_child(prod_node_4, 0.49)\n",
    "\n",
    "    sum_node_4.add_child(prod_node_5, 0.45)\n",
    "    sum_node_4.add_child(prod_node_6, 0.55)\n",
    "\n",
    "    prod_layer_2 = ProductLayerLinked([prod_node_3, prod_node_4,\n",
    "                                 prod_node_5, prod_node_6])\n",
    "\n",
    "    # last sum one\n",
    "    scope_5 = frozenset({0})\n",
    "    scope_6 = frozenset({1})\n",
    "\n",
    "    sum_node_5 = SumNode(var_scope=scope_5)\n",
    "    sum_node_6 = SumNode(var_scope=scope_6)\n",
    "    sum_node_7 = SumNode(var_scope=scope_5)\n",
    "    sum_node_8 = SumNode(var_scope=scope_6)\n",
    "\n",
    "    sum_node_9 = SumNode(var_scope=scope_2)\n",
    "    sum_node_10 = SumNode(var_scope=scope_3)\n",
    "    sum_node_11 = SumNode(var_scope=scope_2)\n",
    "    sum_node_12 = SumNode(var_scope=scope_3)\n",
    "\n",
    "    prod_node_3.add_child(sum_node_5)\n",
    "    prod_node_3.add_child(sum_node_6)\n",
    "    prod_node_4.add_child(sum_node_7)\n",
    "    prod_node_4.add_child(sum_node_8)\n",
    "\n",
    "    prod_node_5.add_child(sum_node_9)\n",
    "    prod_node_5.add_child(sum_node_10)\n",
    "    prod_node_6.add_child(sum_node_11)\n",
    "    prod_node_6.add_child(sum_node_12)\n",
    "\n",
    "    sum_layer_2 = SumLayerLinked([sum_node_5, sum_node_6,\n",
    "                            sum_node_7, sum_node_8,\n",
    "                            sum_node_9, sum_node_10,\n",
    "                            sum_node_11, sum_node_12])\n",
    "\n",
    "    # input layer\n",
    "    vars = [2, 2, 2, 2]\n",
    "    input_layer = CategoricalSmoothedLayer(vars=vars, node_dicts=dicts)\n",
    "    last_sum_nodes = [sum_node_2, sum_node_3,\n",
    "                      sum_node_5, sum_node_6,\n",
    "                      sum_node_7, sum_node_8,\n",
    "                      sum_node_9, sum_node_10,\n",
    "                      sum_node_11, sum_node_12]\n",
    "    for sum_node in last_sum_nodes:\n",
    "        (var_scope,) = sum_node.var_scope\n",
    "        for input_node in input_layer.nodes():\n",
    "            if input_node.var == var_scope:\n",
    "                sum_node.add_child(input_node, 1.0)\n",
    "\n",
    "    spn = SpnLinked(input_layer=input_layer,\n",
    "              layers=[sum_layer_2, prod_layer_2,\n",
    "                      sum_layer_1, prod_layer_1,\n",
    "                      root_layer])\n",
    "\n",
    "    # print(spn)\n",
    "    return spn"
   ]
  },
  {
   "cell_type": "code",
   "execution_count": 7,
   "metadata": {
    "collapsed": false
   },
   "outputs": [],
   "source": [
    "spn = create_valid_toy_spn()"
   ]
  },
  {
   "cell_type": "code",
   "execution_count": 9,
   "metadata": {
    "collapsed": false
   },
   "outputs": [
    {
     "data": {
      "text/plain": [
       "[input layer:]\n",
       "Categorical Smoothed Node id: 38 scope: frozenset({0})\n",
       "            var: 0 val: 2 [[9, 2]] [[-0.20763936477824441, -1.6739764335716714]]\n",
       "Categorical Smoothed Node id: 39 scope: frozenset({1})\n",
       "            var: 1 val: 2 [[1, 9]] [[-2.2270775404859005, -0.11411330676742093]]\n",
       "Categorical Smoothed Node id: 40 scope: frozenset({2})\n",
       "            var: 2 val: 2 [[7, 7]] [[-0.69314718055994518, -0.69314718055994518]]\n",
       "Categorical Smoothed Node id: 41 scope: frozenset({3})\n",
       "            var: 3 val: 2 [[6, 2]] [[-0.29584538309094199, -1.3621968095408301]]\n",
       "**********************************************************"
      ]
     },
     "execution_count": 9,
     "metadata": {},
     "output_type": "execute_result"
    }
   ],
   "source": [
    "spn._input_layer"
   ]
  },
  {
   "cell_type": "code",
   "execution_count": null,
   "metadata": {
    "collapsed": true
   },
   "outputs": [],
   "source": []
  },
  {
   "cell_type": "code",
   "execution_count": null,
   "metadata": {
    "collapsed": true
   },
   "outputs": [],
   "source": []
  },
  {
   "cell_type": "code",
   "execution_count": 2,
   "metadata": {
    "collapsed": true
   },
   "outputs": [],
   "source": [
    "def get_variables_and_constraints(self, c):\n",
    "    \"\"\"\n",
    "function used to scroll through the SPN and get variables and constraints in order the compute the MPE thanks \n",
    "to the nonlinear solver COUENNE and to the PYOMO library        \n",
    "\"\"\"\n",
    "    var_node = []\n",
    "    var_indic = []\n",
    "    print(\"scrolling through the graph\")\n",
    "    constraints = []\n",
    "    l = len(self._layers)\n",
    "    print('there are {} layers to visit'.format(l))\n",
    "\n",
    "    for ith_layer in range(l):\n",
    "        for jth_node in range(self._layers[l-ith_layer-1]._n_nodes):\n",
    "\n",
    "            node = self._layers[l-ith_layer-1]._nodes[jth_node]\n",
    "            var_node.append(node.id)\n",
    "            equation=\"model.x[{}] <= \".format(node.id)\n",
    "\n",
    "            if node.node_type_str() == '*':\n",
    "                not_first = False\n",
    "                for child in node.children:\n",
    "                    if child.node_type_str() == '+' or \\\n",
    "                       child.node_type_str() == '*' or \\\n",
    "                       child.node_type_str() == 'd':\n",
    "                        equation += '{}model.x[{}]'.format('+'*not_first, child.id)\n",
    "                    else :\n",
    "                        print(\"Child is neither a '+', a '*' or a 'd' \")\n",
    "                    not_first = True\n",
    "\n",
    "            elif node.node_type_str() == '+':\n",
    "                not_first = False\n",
    "                for ith_child in range(len(node.children)):\n",
    "                    w = node.log_weights[ith_child]\n",
    "                    child = node.children[ith_child]\n",
    "                    if child.node_type_str() == '+' or \\\n",
    "                       child.node_type_str() == '*' or \\\n",
    "                       child.node_type_str() == 'd':\n",
    "                        equation += '{}{}math.exp({}+model.x[{}])'.format('math.log('*(not not_first),'+'*not_first, w, child.id)\n",
    "                    else:\n",
    "                        print(\"Child is neither a '+', a '*' or a 'd' \")\n",
    "                    not_first = True\n",
    "                equation +=')'\n",
    "\n",
    "            else:\n",
    "                print(\"Warning, there is an interior node which is neither '*' neither a '+'\")\n",
    "\n",
    "            constraints.append(equation)\n",
    "\n",
    "    for node in self._input_layer._nodes:\n",
    "        var_node.append(node.id)\n",
    "        equation = \"model.x[{}] <= \".format(node.id)\n",
    "        equation += '{w0}*(1-model.l[{v}])+{w1}*model.l[{v}]'.format(w0 = math.exp(node._var_probs[0]),\n",
    "                                                                         w1 = math.exp(node._var_probs[1]),\n",
    "                                                                         v= node.var)\n",
    "        constraints.append(equation)\n",
    "\n",
    "\n",
    "    print(\"end of scrolling through the graph\")\n",
    "\n",
    "    var_indic = list(self._root_layer._nodes[0].var_scope)\n",
    "    return var_node, var_indic, constraints"
   ]
  },
  {
   "cell_type": "code",
   "execution_count": 13,
   "metadata": {
    "collapsed": false
   },
   "outputs": [
    {
     "data": {
      "text/plain": [
       "False"
      ]
     },
     "execution_count": 13,
     "metadata": {},
     "output_type": "execute_result"
    }
   ],
   "source": [
    "not (2==2)"
   ]
  },
  {
   "cell_type": "code",
   "execution_count": 24,
   "metadata": {
    "collapsed": false
   },
   "outputs": [
    {
     "data": {
      "text/plain": [
       "[-0.6733445532637656, -0.7133498878774648]"
      ]
     },
     "execution_count": 24,
     "metadata": {},
     "output_type": "execute_result"
    }
   ],
   "source": [
    "spn._layers[2]._nodes[0].log_weights"
   ]
  }
 ],
 "metadata": {
  "kernelspec": {
   "display_name": "Python [Root]",
   "language": "python",
   "name": "Python [Root]"
  },
  "language_info": {
   "codemirror_mode": {
    "name": "ipython",
    "version": 3
   },
   "file_extension": ".py",
   "mimetype": "text/x-python",
   "name": "python",
   "nbconvert_exporter": "python",
   "pygments_lexer": "ipython3",
   "version": "3.5.2"
  }
 },
 "nbformat": 4,
 "nbformat_minor": 0
}
